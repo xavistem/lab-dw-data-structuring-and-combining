{
 "cells": [
  {
   "cell_type": "markdown",
   "id": "25d7736c-ba17-4aff-b6bb-66eba20fbf4e",
   "metadata": {
    "id": "25d7736c-ba17-4aff-b6bb-66eba20fbf4e"
   },
   "source": [
    "# Lab | Data Structuring and Combining Data"
   ]
  },
  {
   "cell_type": "markdown",
   "id": "a2cdfc70-44c8-478c-81e7-2bc43fdf4986",
   "metadata": {
    "id": "a2cdfc70-44c8-478c-81e7-2bc43fdf4986"
   },
   "source": [
    "## Challenge 1: Combining & Cleaning Data\n",
    "\n",
    "In this challenge, we will be working with the customer data from an insurance company, as we did in the two previous labs. The data can be found here:\n",
    "- https://raw.githubusercontent.com/data-bootcamp-v4/data/main/file1.csv\n",
    "\n",
    "But this time, we got new data, which can be found in the following 2 CSV files located at the links below.\n",
    "\n",
    "- https://raw.githubusercontent.com/data-bootcamp-v4/data/main/file2.csv\n",
    "- https://raw.githubusercontent.com/data-bootcamp-v4/data/main/file3.csv\n",
    "\n",
    "Note that you'll need to clean and format the new data.\n",
    "\n",
    "Observation:\n",
    "- One option is to first combine the three datasets and then apply the cleaning function to the new combined dataset\n",
    "- Another option would be to read the clean file you saved in the previous lab, and just clean the two new files and concatenate the three clean datasets"
   ]
  },
  {
   "cell_type": "code",
   "execution_count": 1,
   "id": "492d06e3-92c7-4105-ac72-536db98d3244",
   "metadata": {
    "id": "492d06e3-92c7-4105-ac72-536db98d3244"
   },
   "outputs": [],
   "source": [
    "# Your code goes here\n",
    "import pandas as pd\n",
    "df1 = pd.read_csv(\"https://raw.githubusercontent.com/data-bootcamp-v4/data/main/file1.csv\")\n",
    "df2 = pd.read_csv(\"https://raw.githubusercontent.com/data-bootcamp-v4/data/main/file2.csv\")\n",
    "df3 = pd.read_csv(\"https://raw.githubusercontent.com/data-bootcamp-v4/data/main/file3.csv\")"
   ]
  },
  {
   "cell_type": "code",
   "execution_count": 2,
   "id": "a7e324fc",
   "metadata": {},
   "outputs": [
    {
     "data": {
      "application/vnd.microsoft.datawrangler.viewer.v0+json": {
       "columns": [
        {
         "name": "index",
         "rawType": "int64",
         "type": "integer"
        },
        {
         "name": "Customer",
         "rawType": "object",
         "type": "string"
        },
        {
         "name": "ST",
         "rawType": "object",
         "type": "string"
        },
        {
         "name": "GENDER",
         "rawType": "object",
         "type": "unknown"
        },
        {
         "name": "Education",
         "rawType": "object",
         "type": "string"
        },
        {
         "name": "Customer Lifetime Value",
         "rawType": "object",
         "type": "unknown"
        },
        {
         "name": "Income",
         "rawType": "float64",
         "type": "float"
        },
        {
         "name": "Monthly Premium Auto",
         "rawType": "float64",
         "type": "float"
        },
        {
         "name": "Number of Open Complaints",
         "rawType": "object",
         "type": "string"
        },
        {
         "name": "Policy Type",
         "rawType": "object",
         "type": "string"
        },
        {
         "name": "Vehicle Class",
         "rawType": "object",
         "type": "string"
        },
        {
         "name": "Total Claim Amount",
         "rawType": "float64",
         "type": "float"
        }
       ],
       "ref": "52566d91-b34d-4252-a091-96dd2e8aa275",
       "rows": [
        [
         "0",
         "RB50392",
         "Washington",
         null,
         "Master",
         null,
         "0.0",
         "1000.0",
         "1/0/00",
         "Personal Auto",
         "Four-Door Car",
         "2.704934"
        ],
        [
         "1",
         "QZ44356",
         "Arizona",
         "F",
         "Bachelor",
         "697953.59%",
         "0.0",
         "94.0",
         "1/0/00",
         "Personal Auto",
         "Four-Door Car",
         "1131.464935"
        ],
        [
         "2",
         "AI49188",
         "Nevada",
         "F",
         "Bachelor",
         "1288743.17%",
         "48767.0",
         "108.0",
         "1/0/00",
         "Personal Auto",
         "Two-Door Car",
         "566.472247"
        ],
        [
         "3",
         "WW63253",
         "California",
         "M",
         "Bachelor",
         "764586.18%",
         "0.0",
         "106.0",
         "1/0/00",
         "Corporate Auto",
         "SUV",
         "529.881344"
        ],
        [
         "4",
         "GA49547",
         "Washington",
         "M",
         "High School or Below",
         "536307.65%",
         "36357.0",
         "68.0",
         "1/0/00",
         "Personal Auto",
         "Four-Door Car",
         "17.269323"
        ]
       ],
       "shape": {
        "columns": 11,
        "rows": 5
       }
      },
      "text/html": [
       "<div>\n",
       "<style scoped>\n",
       "    .dataframe tbody tr th:only-of-type {\n",
       "        vertical-align: middle;\n",
       "    }\n",
       "\n",
       "    .dataframe tbody tr th {\n",
       "        vertical-align: top;\n",
       "    }\n",
       "\n",
       "    .dataframe thead th {\n",
       "        text-align: right;\n",
       "    }\n",
       "</style>\n",
       "<table border=\"1\" class=\"dataframe\">\n",
       "  <thead>\n",
       "    <tr style=\"text-align: right;\">\n",
       "      <th></th>\n",
       "      <th>Customer</th>\n",
       "      <th>ST</th>\n",
       "      <th>GENDER</th>\n",
       "      <th>Education</th>\n",
       "      <th>Customer Lifetime Value</th>\n",
       "      <th>Income</th>\n",
       "      <th>Monthly Premium Auto</th>\n",
       "      <th>Number of Open Complaints</th>\n",
       "      <th>Policy Type</th>\n",
       "      <th>Vehicle Class</th>\n",
       "      <th>Total Claim Amount</th>\n",
       "    </tr>\n",
       "  </thead>\n",
       "  <tbody>\n",
       "    <tr>\n",
       "      <th>0</th>\n",
       "      <td>RB50392</td>\n",
       "      <td>Washington</td>\n",
       "      <td>NaN</td>\n",
       "      <td>Master</td>\n",
       "      <td>NaN</td>\n",
       "      <td>0.0</td>\n",
       "      <td>1000.0</td>\n",
       "      <td>1/0/00</td>\n",
       "      <td>Personal Auto</td>\n",
       "      <td>Four-Door Car</td>\n",
       "      <td>2.704934</td>\n",
       "    </tr>\n",
       "    <tr>\n",
       "      <th>1</th>\n",
       "      <td>QZ44356</td>\n",
       "      <td>Arizona</td>\n",
       "      <td>F</td>\n",
       "      <td>Bachelor</td>\n",
       "      <td>697953.59%</td>\n",
       "      <td>0.0</td>\n",
       "      <td>94.0</td>\n",
       "      <td>1/0/00</td>\n",
       "      <td>Personal Auto</td>\n",
       "      <td>Four-Door Car</td>\n",
       "      <td>1131.464935</td>\n",
       "    </tr>\n",
       "    <tr>\n",
       "      <th>2</th>\n",
       "      <td>AI49188</td>\n",
       "      <td>Nevada</td>\n",
       "      <td>F</td>\n",
       "      <td>Bachelor</td>\n",
       "      <td>1288743.17%</td>\n",
       "      <td>48767.0</td>\n",
       "      <td>108.0</td>\n",
       "      <td>1/0/00</td>\n",
       "      <td>Personal Auto</td>\n",
       "      <td>Two-Door Car</td>\n",
       "      <td>566.472247</td>\n",
       "    </tr>\n",
       "    <tr>\n",
       "      <th>3</th>\n",
       "      <td>WW63253</td>\n",
       "      <td>California</td>\n",
       "      <td>M</td>\n",
       "      <td>Bachelor</td>\n",
       "      <td>764586.18%</td>\n",
       "      <td>0.0</td>\n",
       "      <td>106.0</td>\n",
       "      <td>1/0/00</td>\n",
       "      <td>Corporate Auto</td>\n",
       "      <td>SUV</td>\n",
       "      <td>529.881344</td>\n",
       "    </tr>\n",
       "    <tr>\n",
       "      <th>4</th>\n",
       "      <td>GA49547</td>\n",
       "      <td>Washington</td>\n",
       "      <td>M</td>\n",
       "      <td>High School or Below</td>\n",
       "      <td>536307.65%</td>\n",
       "      <td>36357.0</td>\n",
       "      <td>68.0</td>\n",
       "      <td>1/0/00</td>\n",
       "      <td>Personal Auto</td>\n",
       "      <td>Four-Door Car</td>\n",
       "      <td>17.269323</td>\n",
       "    </tr>\n",
       "  </tbody>\n",
       "</table>\n",
       "</div>"
      ],
      "text/plain": [
       "  Customer          ST GENDER             Education Customer Lifetime Value  \\\n",
       "0  RB50392  Washington    NaN                Master                     NaN   \n",
       "1  QZ44356     Arizona      F              Bachelor              697953.59%   \n",
       "2  AI49188      Nevada      F              Bachelor             1288743.17%   \n",
       "3  WW63253  California      M              Bachelor              764586.18%   \n",
       "4  GA49547  Washington      M  High School or Below              536307.65%   \n",
       "\n",
       "    Income  Monthly Premium Auto Number of Open Complaints     Policy Type  \\\n",
       "0      0.0                1000.0                    1/0/00   Personal Auto   \n",
       "1      0.0                  94.0                    1/0/00   Personal Auto   \n",
       "2  48767.0                 108.0                    1/0/00   Personal Auto   \n",
       "3      0.0                 106.0                    1/0/00  Corporate Auto   \n",
       "4  36357.0                  68.0                    1/0/00   Personal Auto   \n",
       "\n",
       "   Vehicle Class  Total Claim Amount  \n",
       "0  Four-Door Car            2.704934  \n",
       "1  Four-Door Car         1131.464935  \n",
       "2   Two-Door Car          566.472247  \n",
       "3            SUV          529.881344  \n",
       "4  Four-Door Car           17.269323  "
      ]
     },
     "execution_count": 2,
     "metadata": {},
     "output_type": "execute_result"
    }
   ],
   "source": [
    "df1.head()"
   ]
  },
  {
   "cell_type": "code",
   "execution_count": 3,
   "id": "c8fcb6f4",
   "metadata": {},
   "outputs": [
    {
     "data": {
      "application/vnd.microsoft.datawrangler.viewer.v0+json": {
       "columns": [
        {
         "name": "index",
         "rawType": "int64",
         "type": "integer"
        },
        {
         "name": "Customer",
         "rawType": "object",
         "type": "string"
        },
        {
         "name": "ST",
         "rawType": "object",
         "type": "string"
        },
        {
         "name": "GENDER",
         "rawType": "object",
         "type": "string"
        },
        {
         "name": "Education",
         "rawType": "object",
         "type": "string"
        },
        {
         "name": "Customer Lifetime Value",
         "rawType": "object",
         "type": "string"
        },
        {
         "name": "Income",
         "rawType": "int64",
         "type": "integer"
        },
        {
         "name": "Monthly Premium Auto",
         "rawType": "int64",
         "type": "integer"
        },
        {
         "name": "Number of Open Complaints",
         "rawType": "object",
         "type": "string"
        },
        {
         "name": "Total Claim Amount",
         "rawType": "float64",
         "type": "float"
        },
        {
         "name": "Policy Type",
         "rawType": "object",
         "type": "string"
        },
        {
         "name": "Vehicle Class",
         "rawType": "object",
         "type": "string"
        }
       ],
       "ref": "4ba47bd4-b887-4a94-a025-4fd4b7080a7f",
       "rows": [
        [
         "0",
         "GS98873",
         "Arizona",
         "F",
         "Bachelor",
         "323912.47%",
         "16061",
         "88",
         "1/0/00",
         "633.6",
         "Personal Auto",
         "Four-Door Car"
        ],
        [
         "1",
         "CW49887",
         "California",
         "F",
         "Master",
         "462680.11%",
         "79487",
         "114",
         "1/0/00",
         "547.2",
         "Special Auto",
         "SUV"
        ],
        [
         "2",
         "MY31220",
         "California",
         "F",
         "College",
         "899704.02%",
         "54230",
         "112",
         "1/0/00",
         "537.6",
         "Personal Auto",
         "Two-Door Car"
        ],
        [
         "3",
         "UH35128",
         "Oregon",
         "F",
         "College",
         "2580706.30%",
         "71210",
         "214",
         "1/1/00",
         "1027.2",
         "Personal Auto",
         "Luxury Car"
        ],
        [
         "4",
         "WH52799",
         "Arizona",
         "F",
         "College",
         "380812.21%",
         "94903",
         "94",
         "1/0/00",
         "451.2",
         "Corporate Auto",
         "Two-Door Car"
        ]
       ],
       "shape": {
        "columns": 11,
        "rows": 5
       }
      },
      "text/html": [
       "<div>\n",
       "<style scoped>\n",
       "    .dataframe tbody tr th:only-of-type {\n",
       "        vertical-align: middle;\n",
       "    }\n",
       "\n",
       "    .dataframe tbody tr th {\n",
       "        vertical-align: top;\n",
       "    }\n",
       "\n",
       "    .dataframe thead th {\n",
       "        text-align: right;\n",
       "    }\n",
       "</style>\n",
       "<table border=\"1\" class=\"dataframe\">\n",
       "  <thead>\n",
       "    <tr style=\"text-align: right;\">\n",
       "      <th></th>\n",
       "      <th>Customer</th>\n",
       "      <th>ST</th>\n",
       "      <th>GENDER</th>\n",
       "      <th>Education</th>\n",
       "      <th>Customer Lifetime Value</th>\n",
       "      <th>Income</th>\n",
       "      <th>Monthly Premium Auto</th>\n",
       "      <th>Number of Open Complaints</th>\n",
       "      <th>Total Claim Amount</th>\n",
       "      <th>Policy Type</th>\n",
       "      <th>Vehicle Class</th>\n",
       "    </tr>\n",
       "  </thead>\n",
       "  <tbody>\n",
       "    <tr>\n",
       "      <th>0</th>\n",
       "      <td>GS98873</td>\n",
       "      <td>Arizona</td>\n",
       "      <td>F</td>\n",
       "      <td>Bachelor</td>\n",
       "      <td>323912.47%</td>\n",
       "      <td>16061</td>\n",
       "      <td>88</td>\n",
       "      <td>1/0/00</td>\n",
       "      <td>633.6</td>\n",
       "      <td>Personal Auto</td>\n",
       "      <td>Four-Door Car</td>\n",
       "    </tr>\n",
       "    <tr>\n",
       "      <th>1</th>\n",
       "      <td>CW49887</td>\n",
       "      <td>California</td>\n",
       "      <td>F</td>\n",
       "      <td>Master</td>\n",
       "      <td>462680.11%</td>\n",
       "      <td>79487</td>\n",
       "      <td>114</td>\n",
       "      <td>1/0/00</td>\n",
       "      <td>547.2</td>\n",
       "      <td>Special Auto</td>\n",
       "      <td>SUV</td>\n",
       "    </tr>\n",
       "    <tr>\n",
       "      <th>2</th>\n",
       "      <td>MY31220</td>\n",
       "      <td>California</td>\n",
       "      <td>F</td>\n",
       "      <td>College</td>\n",
       "      <td>899704.02%</td>\n",
       "      <td>54230</td>\n",
       "      <td>112</td>\n",
       "      <td>1/0/00</td>\n",
       "      <td>537.6</td>\n",
       "      <td>Personal Auto</td>\n",
       "      <td>Two-Door Car</td>\n",
       "    </tr>\n",
       "    <tr>\n",
       "      <th>3</th>\n",
       "      <td>UH35128</td>\n",
       "      <td>Oregon</td>\n",
       "      <td>F</td>\n",
       "      <td>College</td>\n",
       "      <td>2580706.30%</td>\n",
       "      <td>71210</td>\n",
       "      <td>214</td>\n",
       "      <td>1/1/00</td>\n",
       "      <td>1027.2</td>\n",
       "      <td>Personal Auto</td>\n",
       "      <td>Luxury Car</td>\n",
       "    </tr>\n",
       "    <tr>\n",
       "      <th>4</th>\n",
       "      <td>WH52799</td>\n",
       "      <td>Arizona</td>\n",
       "      <td>F</td>\n",
       "      <td>College</td>\n",
       "      <td>380812.21%</td>\n",
       "      <td>94903</td>\n",
       "      <td>94</td>\n",
       "      <td>1/0/00</td>\n",
       "      <td>451.2</td>\n",
       "      <td>Corporate Auto</td>\n",
       "      <td>Two-Door Car</td>\n",
       "    </tr>\n",
       "  </tbody>\n",
       "</table>\n",
       "</div>"
      ],
      "text/plain": [
       "  Customer          ST GENDER Education Customer Lifetime Value  Income  \\\n",
       "0  GS98873     Arizona      F  Bachelor              323912.47%   16061   \n",
       "1  CW49887  California      F    Master              462680.11%   79487   \n",
       "2  MY31220  California      F   College              899704.02%   54230   \n",
       "3  UH35128      Oregon      F   College             2580706.30%   71210   \n",
       "4  WH52799     Arizona      F   College              380812.21%   94903   \n",
       "\n",
       "   Monthly Premium Auto Number of Open Complaints  Total Claim Amount  \\\n",
       "0                    88                    1/0/00               633.6   \n",
       "1                   114                    1/0/00               547.2   \n",
       "2                   112                    1/0/00               537.6   \n",
       "3                   214                    1/1/00              1027.2   \n",
       "4                    94                    1/0/00               451.2   \n",
       "\n",
       "      Policy Type  Vehicle Class  \n",
       "0   Personal Auto  Four-Door Car  \n",
       "1    Special Auto            SUV  \n",
       "2   Personal Auto   Two-Door Car  \n",
       "3   Personal Auto     Luxury Car  \n",
       "4  Corporate Auto   Two-Door Car  "
      ]
     },
     "execution_count": 3,
     "metadata": {},
     "output_type": "execute_result"
    }
   ],
   "source": [
    "df2.head()"
   ]
  },
  {
   "cell_type": "code",
   "execution_count": 4,
   "id": "b80c22a5",
   "metadata": {},
   "outputs": [
    {
     "data": {
      "application/vnd.microsoft.datawrangler.viewer.v0+json": {
       "columns": [
        {
         "name": "index",
         "rawType": "int64",
         "type": "integer"
        },
        {
         "name": "Customer",
         "rawType": "object",
         "type": "string"
        },
        {
         "name": "State",
         "rawType": "object",
         "type": "string"
        },
        {
         "name": "Customer Lifetime Value",
         "rawType": "float64",
         "type": "float"
        },
        {
         "name": "Education",
         "rawType": "object",
         "type": "string"
        },
        {
         "name": "Gender",
         "rawType": "object",
         "type": "string"
        },
        {
         "name": "Income",
         "rawType": "int64",
         "type": "integer"
        },
        {
         "name": "Monthly Premium Auto",
         "rawType": "int64",
         "type": "integer"
        },
        {
         "name": "Number of Open Complaints",
         "rawType": "int64",
         "type": "integer"
        },
        {
         "name": "Policy Type",
         "rawType": "object",
         "type": "string"
        },
        {
         "name": "Total Claim Amount",
         "rawType": "float64",
         "type": "float"
        },
        {
         "name": "Vehicle Class",
         "rawType": "object",
         "type": "string"
        }
       ],
       "ref": "59a53a11-2e04-4eb1-ae78-4e610f3ee7c1",
       "rows": [
        [
         "0",
         "SA25987",
         "Washington",
         "3479.137523",
         "High School or Below",
         "M",
         "0",
         "104",
         "0",
         "Personal Auto",
         "499.2",
         "Two-Door Car"
        ],
        [
         "1",
         "TB86706",
         "Arizona",
         "2502.637401",
         "Master",
         "M",
         "0",
         "66",
         "0",
         "Personal Auto",
         "3.468912",
         "Two-Door Car"
        ],
        [
         "2",
         "ZL73902",
         "Nevada",
         "3265.156348",
         "Bachelor",
         "F",
         "25820",
         "82",
         "0",
         "Personal Auto",
         "393.6",
         "Four-Door Car"
        ],
        [
         "3",
         "KX23516",
         "California",
         "4455.843406",
         "High School or Below",
         "F",
         "0",
         "121",
         "0",
         "Personal Auto",
         "699.615192",
         "SUV"
        ],
        [
         "4",
         "FN77294",
         "California",
         "7704.95848",
         "High School or Below",
         "M",
         "30366",
         "101",
         "2",
         "Personal Auto",
         "484.8",
         "SUV"
        ]
       ],
       "shape": {
        "columns": 11,
        "rows": 5
       }
      },
      "text/html": [
       "<div>\n",
       "<style scoped>\n",
       "    .dataframe tbody tr th:only-of-type {\n",
       "        vertical-align: middle;\n",
       "    }\n",
       "\n",
       "    .dataframe tbody tr th {\n",
       "        vertical-align: top;\n",
       "    }\n",
       "\n",
       "    .dataframe thead th {\n",
       "        text-align: right;\n",
       "    }\n",
       "</style>\n",
       "<table border=\"1\" class=\"dataframe\">\n",
       "  <thead>\n",
       "    <tr style=\"text-align: right;\">\n",
       "      <th></th>\n",
       "      <th>Customer</th>\n",
       "      <th>State</th>\n",
       "      <th>Customer Lifetime Value</th>\n",
       "      <th>Education</th>\n",
       "      <th>Gender</th>\n",
       "      <th>Income</th>\n",
       "      <th>Monthly Premium Auto</th>\n",
       "      <th>Number of Open Complaints</th>\n",
       "      <th>Policy Type</th>\n",
       "      <th>Total Claim Amount</th>\n",
       "      <th>Vehicle Class</th>\n",
       "    </tr>\n",
       "  </thead>\n",
       "  <tbody>\n",
       "    <tr>\n",
       "      <th>0</th>\n",
       "      <td>SA25987</td>\n",
       "      <td>Washington</td>\n",
       "      <td>3479.137523</td>\n",
       "      <td>High School or Below</td>\n",
       "      <td>M</td>\n",
       "      <td>0</td>\n",
       "      <td>104</td>\n",
       "      <td>0</td>\n",
       "      <td>Personal Auto</td>\n",
       "      <td>499.200000</td>\n",
       "      <td>Two-Door Car</td>\n",
       "    </tr>\n",
       "    <tr>\n",
       "      <th>1</th>\n",
       "      <td>TB86706</td>\n",
       "      <td>Arizona</td>\n",
       "      <td>2502.637401</td>\n",
       "      <td>Master</td>\n",
       "      <td>M</td>\n",
       "      <td>0</td>\n",
       "      <td>66</td>\n",
       "      <td>0</td>\n",
       "      <td>Personal Auto</td>\n",
       "      <td>3.468912</td>\n",
       "      <td>Two-Door Car</td>\n",
       "    </tr>\n",
       "    <tr>\n",
       "      <th>2</th>\n",
       "      <td>ZL73902</td>\n",
       "      <td>Nevada</td>\n",
       "      <td>3265.156348</td>\n",
       "      <td>Bachelor</td>\n",
       "      <td>F</td>\n",
       "      <td>25820</td>\n",
       "      <td>82</td>\n",
       "      <td>0</td>\n",
       "      <td>Personal Auto</td>\n",
       "      <td>393.600000</td>\n",
       "      <td>Four-Door Car</td>\n",
       "    </tr>\n",
       "    <tr>\n",
       "      <th>3</th>\n",
       "      <td>KX23516</td>\n",
       "      <td>California</td>\n",
       "      <td>4455.843406</td>\n",
       "      <td>High School or Below</td>\n",
       "      <td>F</td>\n",
       "      <td>0</td>\n",
       "      <td>121</td>\n",
       "      <td>0</td>\n",
       "      <td>Personal Auto</td>\n",
       "      <td>699.615192</td>\n",
       "      <td>SUV</td>\n",
       "    </tr>\n",
       "    <tr>\n",
       "      <th>4</th>\n",
       "      <td>FN77294</td>\n",
       "      <td>California</td>\n",
       "      <td>7704.958480</td>\n",
       "      <td>High School or Below</td>\n",
       "      <td>M</td>\n",
       "      <td>30366</td>\n",
       "      <td>101</td>\n",
       "      <td>2</td>\n",
       "      <td>Personal Auto</td>\n",
       "      <td>484.800000</td>\n",
       "      <td>SUV</td>\n",
       "    </tr>\n",
       "  </tbody>\n",
       "</table>\n",
       "</div>"
      ],
      "text/plain": [
       "  Customer       State  Customer Lifetime Value             Education Gender  \\\n",
       "0  SA25987  Washington              3479.137523  High School or Below      M   \n",
       "1  TB86706     Arizona              2502.637401                Master      M   \n",
       "2  ZL73902      Nevada              3265.156348              Bachelor      F   \n",
       "3  KX23516  California              4455.843406  High School or Below      F   \n",
       "4  FN77294  California              7704.958480  High School or Below      M   \n",
       "\n",
       "   Income  Monthly Premium Auto  Number of Open Complaints    Policy Type  \\\n",
       "0       0                   104                          0  Personal Auto   \n",
       "1       0                    66                          0  Personal Auto   \n",
       "2   25820                    82                          0  Personal Auto   \n",
       "3       0                   121                          0  Personal Auto   \n",
       "4   30366                   101                          2  Personal Auto   \n",
       "\n",
       "   Total Claim Amount  Vehicle Class  \n",
       "0          499.200000   Two-Door Car  \n",
       "1            3.468912   Two-Door Car  \n",
       "2          393.600000  Four-Door Car  \n",
       "3          699.615192            SUV  \n",
       "4          484.800000            SUV  "
      ]
     },
     "execution_count": 4,
     "metadata": {},
     "output_type": "execute_result"
    }
   ],
   "source": [
    "df3.head()"
   ]
  },
  {
   "cell_type": "code",
   "execution_count": 5,
   "id": "a9bd6544",
   "metadata": {},
   "outputs": [
    {
     "name": "stdout",
     "output_type": "stream",
     "text": [
      "Vista previa del dataframe combinado y limpio:\n",
      "  custateomer       state gender             education  \\\n",
      "0     RB50392  Washington    NaN                Master   \n",
      "1     QZ44356     Arizona      F              Bachelor   \n",
      "2     AI49188      Nevada      F              Bachelor   \n",
      "3     WW63253  California      M              Bachelor   \n",
      "4     GA49547  Washington      M  High School or Below   \n",
      "\n",
      "  custateomer_lifetime_value   income  monthly_premium_auto  \\\n",
      "0                        NaN      0.0                1000.0   \n",
      "1                 697953.59%      0.0                  94.0   \n",
      "2                1288743.17%  48767.0                 108.0   \n",
      "3                 764586.18%      0.0                 106.0   \n",
      "4                 536307.65%  36357.0                  68.0   \n",
      "\n",
      "  number_of_open_complaints     policy_type  vehicle_class  \\\n",
      "0                    1/0/00   Personal Auto  Four-Door Car   \n",
      "1                    1/0/00   Personal Auto  Four-Door Car   \n",
      "2                    1/0/00   Personal Auto   Two-Door Car   \n",
      "3                    1/0/00  Corporate Auto            SUV   \n",
      "4                    1/0/00   Personal Auto  Four-Door Car   \n",
      "\n",
      "   total_claim_amount stateate  \n",
      "0            2.704934      NaN  \n",
      "1         1131.464935      NaN  \n",
      "2          566.472247      NaN  \n",
      "3          529.881344      NaN  \n",
      "4           17.269323      NaN  \n",
      "Dimensiones finales del dataframe:\n",
      "(9134, 12)\n"
     ]
    }
   ],
   "source": [
    "# Reto 1: Combinar y Limpiar Datos\n",
    "\n",
    "# Mi idea es crear una función para limpiar los datos.\n",
    "# Así puedo aplicar la misma limpieza a los tres dataframes antes de juntarlos.\n",
    "# Me parece más ordenado que juntar todo y luego limpiar el dataframe gigante.\n",
    "\n",
    "def limpiar_dataframe(df):\n",
    "    # Primero, corrijo los nombres de las columnas: minúsculas y guiones bajos.\n",
    "    # El código de mi compañera usaba rename para 'st', yo lo hago todo en una línea.\n",
    "    columnas_nuevas = {col: col.lower().replace(' ', '_').replace('st', 'state') for col in df.columns}\n",
    "    df = df.rename(columns=columnas_nuevas)\n",
    "    \n",
    "    # Arreglo los valores raros en la columna 'gender'. Uso .loc porque me resulta fácil de leer.\n",
    "    if 'gender' in df.columns:\n",
    "        df.loc[df['gender'].isin(['Femal', 'female']), 'gender'] = 'F'\n",
    "        df.loc[df['gender'] == 'Male', 'gender'] = 'M'\n",
    "    \n",
    "    # Corrijo la columna 'education'\n",
    "    if 'education' in df.columns:\n",
    "        df['education'] = df['education'].replace('Bachelors', 'Bachelor')\n",
    "        \n",
    "    # Limpio los nulos. Me voy a cargar todas las filas que estén completamente vacías.\n",
    "    df.dropna(how='all', inplace=True)\n",
    "    \n",
    "    return df\n",
    "\n",
    "\n",
    "# Aplico la función de limpieza a cada uno de los tres dataframes.\n",
    "df1_limpio = limpiar_dataframe(df1.copy()) # Uso .copy() por si acaso, para no modificar el original\n",
    "df2_limpio = limpiar_dataframe(df2.copy())\n",
    "df3_limpio = limpiar_dataframe(df3.copy())\n",
    "\n",
    "# Ahora que los tres están limpios, los junto (concateno) en un solo dataframe.\n",
    "# `ignore_index=True` es para que el índice del nuevo dataframe sea continuo (0, 1, 2...).\n",
    "datos_combinados = pd.concat([df1_limpio, df2_limpio, df3_limpio], ignore_index=True)\n",
    "\n",
    "# Ahora hago una limpieza final sobre el dataframe ya combinado.\n",
    "\n",
    "# Elimino la columna 'customer' porque no me aporta mucho para el análisis.\n",
    "# Mi compañera no lo hizo, pero a mí me parece que sobra.\n",
    "if 'customer' in datos_combinados.columns:\n",
    "    datos_combinados = datos_combinados.drop(columns=['customer'])\n",
    "\n",
    "# Elimino duplicados. Si una fila es exactamente igual a otra, la quito.\n",
    "datos_combinados.drop_duplicates(inplace=True)\n",
    "\n",
    "# Muestro las primeras filas para ver cómo ha quedado.\n",
    "print(\"Vista previa del dataframe combinado y limpio:\")\n",
    "print(datos_combinados.head())\n",
    "\n",
    "print(\"Dimensiones finales del dataframe:\")\n",
    "print(datos_combinados.shape)\n"
   ]
  },
  {
   "cell_type": "markdown",
   "id": "31b8a9e7-7db9-4604-991b-ef6771603e57",
   "metadata": {
    "id": "31b8a9e7-7db9-4604-991b-ef6771603e57"
   },
   "source": [
    "# Challenge 2: Structuring Data"
   ]
  },
  {
   "cell_type": "markdown",
   "id": "a877fd6d-7a0c-46d2-9657-f25036e4ca4b",
   "metadata": {
    "id": "a877fd6d-7a0c-46d2-9657-f25036e4ca4b"
   },
   "source": [
    "In this challenge, we will continue to work with customer data from an insurance company, but we will use a dataset with more columns, called marketing_customer_analysis.csv, which can be found at the following link:\n",
    "\n",
    "https://raw.githubusercontent.com/data-bootcamp-v4/data/main/marketing_customer_analysis_clean.csv\n",
    "\n",
    "This dataset contains information such as customer demographics, policy details, vehicle information, and the customer's response to the last marketing campaign. Our goal is to explore and analyze this data by performing data cleaning, formatting, and structuring."
   ]
  },
  {
   "cell_type": "code",
   "execution_count": 6,
   "id": "aa10d9b0-1c27-4d3f-a8e4-db6ab73bfd26",
   "metadata": {
    "id": "aa10d9b0-1c27-4d3f-a8e4-db6ab73bfd26"
   },
   "outputs": [
    {
     "name": "stdout",
     "output_type": "stream",
     "text": [
      "Análisis de ingresos por canal de venta:\n",
      "               total_claim_amount\n",
      "sales_channel                    \n",
      "Agent                  1810226.82\n",
      "Branch                 1301204.00\n",
      "Call Center             926600.82\n",
      "Web                     706600.04\n",
      "Análisis del valor medio del cliente por género y nivel de estudios:\n",
      "gender                   F     M\n",
      "education                       \n",
      "Bachelor              7874  7704\n",
      "College               7749  8052\n",
      "Doctor                7329  7415\n",
      "High School or Below  8675  8150\n",
      "Master                8157  8169\n"
     ]
    }
   ],
   "source": [
    "# Reto 2: Estructurar Datos\n",
    "\n",
    "# Cargo el nuevo archivo CSV para este reto.\n",
    "df_marketing = pd.read_csv(\"https://raw.githubusercontent.com/data-bootcamp-v4/data/main/marketing_customer_analysis_clean.csv\")\n",
    "\n",
    "# 1. Tabla pivote: ingresos totales por canal de venta.\n",
    "print(\"Análisis de ingresos por canal de venta:\")\n",
    "\n",
    "# Creo la tabla pivote.\n",
    "# Quiero ver la suma de 'total_claim_amount' para cada 'sales_channel'.\n",
    "tabla_ingresos = df_marketing.pivot_table(\n",
    "    index='sales_channel', \n",
    "    values='total_claim_amount', \n",
    "    aggfunc='sum'\n",
    ")\n",
    "\n",
    "# Redondeo los resultados a 2 decimales para que se vea mejor.\n",
    "tabla_ingresos = tabla_ingresos.round(2)\n",
    "\n",
    "# Muestro la tabla.\n",
    "print(tabla_ingresos)\n",
    "# Mi conclusión: El canal 'Agent' es el que más ingresos genera, seguido de 'Branch'.\n",
    "# Los canales online como 'Web' o el 'Call Center' generan bastante menos.\n",
    "# Parece que el contacto personal sigue siendo muy importante en este negocio.\n",
    "\n",
    "\n",
    "# 2. Tabla pivote: valor medio del cliente (CLV) por género y educación.\n",
    "print(\"Análisis del valor medio del cliente por género y nivel de estudios:\")\n",
    "\n",
    "# Creo la tabla pivote.\n",
    "# Esta vez quiero la media ('mean') del 'customer_lifetime_value'.\n",
    "# Y quiero verlo cruzando 'gender' y 'education'.\n",
    "tabla_clv = df_marketing.pivot_table(\n",
    "    index='education', \n",
    "    columns='gender',\n",
    "    values='customer_lifetime_value', \n",
    "    aggfunc='mean'\n",
    ")\n",
    "\n",
    "# Redondeo los valores para que sean más fáciles de comparar.\n",
    "tabla_clv = tabla_clv.round(0).astype(int) # Lo convierto a entero para que se vea más limpio\n",
    "\n",
    "# Muestro la tabla.\n",
    "print(tabla_clv)\n",
    "# Mi conclusión: No parece haber una gran diferencia en el valor del cliente (CLV) ni por género\n",
    "# ni por nivel de estudios. Los valores son bastante parecidos en todas las categorías.\n",
    "# Quizás el nivel de estudios no es un buen indicador para predecir el valor de un cliente en esta empresa."
   ]
  },
  {
   "cell_type": "markdown",
   "id": "df35fd0d-513e-4e77-867e-429da10a9cc7",
   "metadata": {
    "id": "df35fd0d-513e-4e77-867e-429da10a9cc7"
   },
   "source": [
    "1. You work at the marketing department and you want to know which sales channel brought the most sales in terms of total revenue. Using pivot, create a summary table showing the total revenue for each sales channel (branch, call center, web, and mail).\n",
    "Round the total revenue to 2 decimal points.  Analyze the resulting table to draw insights."
   ]
  },
  {
   "cell_type": "markdown",
   "id": "640993b2-a291-436c-a34d-a551144f8196",
   "metadata": {
    "id": "640993b2-a291-436c-a34d-a551144f8196"
   },
   "source": [
    "2. Create a pivot table that shows the average customer lifetime value per gender and education level. Analyze the resulting table to draw insights."
   ]
  },
  {
   "cell_type": "markdown",
   "id": "32c7f2e5-3d90-43e5-be33-9781b6069198",
   "metadata": {
    "id": "32c7f2e5-3d90-43e5-be33-9781b6069198"
   },
   "source": [
    "## Bonus\n",
    "\n",
    "You work at the customer service department and you want to know which months had the highest number of complaints by policy type category. Create a summary table showing the number of complaints by policy type and month.\n",
    "Show it in a long format table."
   ]
  },
  {
   "cell_type": "markdown",
   "id": "e3d09a8f-953c-448a-a5f8-2e5a8cca7291",
   "metadata": {
    "id": "e3d09a8f-953c-448a-a5f8-2e5a8cca7291"
   },
   "source": [
    "*In data analysis, a long format table is a way of structuring data in which each observation or measurement is stored in a separate row of the table. The key characteristic of a long format table is that each column represents a single variable, and each row represents a single observation of that variable.*\n",
    "\n",
    "*More information about long and wide format tables here: https://www.statology.org/long-vs-wide-data/*"
   ]
  },
  {
   "cell_type": "code",
   "execution_count": null,
   "id": "3a069e0b-b400-470e-904d-d17582191be4",
   "metadata": {
    "id": "3a069e0b-b400-470e-904d-d17582191be4"
   },
   "outputs": [],
   "source": [
    "# Your code goes here"
   ]
  }
 ],
 "metadata": {
  "colab": {
   "provenance": []
  },
  "kernelspec": {
   "display_name": "base",
   "language": "python",
   "name": "python3"
  },
  "language_info": {
   "codemirror_mode": {
    "name": "ipython",
    "version": 3
   },
   "file_extension": ".py",
   "mimetype": "text/x-python",
   "name": "python",
   "nbconvert_exporter": "python",
   "pygments_lexer": "ipython3",
   "version": "3.12.7"
  }
 },
 "nbformat": 4,
 "nbformat_minor": 5
}
